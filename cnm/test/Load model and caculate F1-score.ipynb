{
 "cells": [
  {
   "cell_type": "code",
   "execution_count": 1,
   "id": "c5bf193b",
   "metadata": {},
   "outputs": [],
   "source": [
    "import torch\n",
    "import os\n",
    "import numpy as np\n",
    "import matplotlib.pyplot as plt\n",
    "from tqdm import tqdm\n",
    "from sklearn.metrics import f1_score, accuracy_score\n",
    "import torch.nn.functional as nnf\n",
    "import torchvision.transforms as transforms\n",
    "import torch.utils.data as data\n",
    "import matplotlib.pyplot as plt\n",
    "from cnm.scene_lvl.crnn_orig.model import ResCNNEncoder, DecoderRNN\n",
    "import cnm.scene_lvl.crnn_orig.dataset_loader as rescnn_dataset_loader\n",
    "\n",
    "import cnm.scene_lvl.i3d.dataset_loader as cnn3d_dataset_loader\n",
    "from cnm.scene_lvl.i3d.model import CNN3D\n",
    "\n",
    "from cnm.scene_lvl.i3d.model import Conv3d_final_prediction\n",
    "from cnm.scene_lvl.crnn_orig.model import crnn_final_prediction\n",
    "\n",
    "# roc curve and auc\n",
    "from sklearn.datasets import make_classification\n",
    "from sklearn.linear_model import LogisticRegression\n",
    "from sklearn.model_selection import train_test_split\n",
    "from sklearn.metrics import roc_curve\n",
    "from sklearn.metrics import roc_auc_score\n",
    "from matplotlib import pyplot\n"
   ]
  },
  {
   "cell_type": "markdown",
   "id": "752cc513",
   "metadata": {},
   "source": [
    "## CNN+LSTM"
   ]
  },
  {
   "cell_type": "code",
   "execution_count": 3,
   "id": "d0cc0c5c",
   "metadata": {},
   "outputs": [],
   "source": [
    "batch_size = 16\n",
    "h_res_size = 224\n",
    "w_res_size = 224\n",
    "forward_frame_len = 20\n",
    "backward_frame_len = 20\n",
    "\n",
    "csv_data_path = r\"/project/6055479/lingheng/cyc_near_miss/dataset_utils/dataset_vic_cyc_legacy/NearMiss_classification.csv\"\n",
    "rgb_frame_data_path = r\"/scratch/lingheng/cyc_safety_project/vic_cyc_legacy_pass_event_clip_rgb_frame/\"\n",
    "opt_frame_data_path = r\"/scratch/lingheng/cyc_safety_project/vic_cyc_legacy_pass_event_clip_opt_frame/\"\n",
    "fused_frame_data_path = r\"/scratch/lingheng/cyc_safety_project/vic_cyc_legacy_pass_event_clip_fused_frame/\"\n",
    "\n",
    "CNN_fc_hidden1 = 1024\n",
    "CNN_fc_hidden2 = 768\n",
    "dropout_p = 0.1\n",
    "CNN_embed_dim = 512\n",
    "\n",
    "RNN_hidden_layers= 3 \n",
    "RNN_hidden_nodes = 512\n",
    "RNN_FC_dim = 256\n",
    "num_classes = 2"
   ]
  },
  {
   "cell_type": "code",
   "execution_count": 4,
   "id": "ce41134e",
   "metadata": {},
   "outputs": [],
   "source": [
    "use_cuda = torch.cuda.is_available()                   # check if GPU exists\n",
    "device = torch.device(\"cuda\" if use_cuda else \"cpu\")   # use CPU or GPU\n",
    "\n",
    "# Data loading parameters\n",
    "params = {'batch_size': batch_size, 'shuffle': True, 'num_workers': 4, 'pin_memory': True} if use_cuda else {}\n",
    "\n",
    "transform = transforms.Compose([transforms.Resize([h_res_size, w_res_size]),\n",
    "                                transforms.ToTensor(),\n",
    "                                transforms.Normalize(mean=[0.485, 0.456, 0.406], std=[0.229, 0.224, 0.225])])\n"
   ]
  },
  {
   "cell_type": "code",
   "execution_count": 5,
   "id": "a19ddfd3",
   "metadata": {},
   "outputs": [],
   "source": [
    "def crnn_final_prediction(model, device, loader):\n",
    "    cnn_encoder, rnn_decoder = model\n",
    "    cnn_encoder.eval()\n",
    "    rnn_decoder.eval()\n",
    "\n",
    "    all_y_pred = []\n",
    "    all_y = []\n",
    "    all_output = []\n",
    "    with torch.no_grad():\n",
    "        for batch_idx, (X, y) in enumerate(tqdm(loader)):\n",
    "            # distribute data to device\n",
    "            if isinstance(X, list):  # For 2-streams, X is a tuple of (rgb, opt)\n",
    "                X = (X[0].to(device), X[1].to(device))\n",
    "                y = y.to(device).view(-1, )\n",
    "            else:\n",
    "                X, y = X.to(device), y.to(device).view(-1, )\n",
    "            \n",
    "            output = rnn_decoder(cnn_encoder(X))\n",
    "            y_pred = output.max(1, keepdim=True)[1]  # location of max log-probability as prediction\n",
    "            \n",
    "            all_output.extend(output)\n",
    "            all_y_pred.extend(y_pred.cpu().data.squeeze().numpy().tolist())\n",
    "            all_y.extend(y.cpu().data.squeeze().numpy().tolist())\n",
    "    return all_y, all_y_pred, all_output"
   ]
  },
  {
   "cell_type": "code",
   "execution_count": 6,
   "id": "aa9864be",
   "metadata": {},
   "outputs": [
    {
     "name": "stdout",
     "output_type": "stream",
     "text": [
      "RGB\n",
      "\tcrnn_orig_run_0, 27\n"
     ]
    },
    {
     "name": "stderr",
     "output_type": "stream",
     "text": [
      "100%|██████████| 25/25 [04:59<00:00, 12.00s/it]\n"
     ]
    },
    {
     "name": "stdout",
     "output_type": "stream",
     "text": [
      "\t\tF1-score=0.8894117647058823, Accuracy=0.8813131313131313\n",
      "Fused\n",
      "\tcrnn_orig_run_1, 27\n"
     ]
    },
    {
     "name": "stderr",
     "output_type": "stream",
     "text": [
      "100%|██████████| 25/25 [04:44<00:00, 11.36s/it]\n"
     ]
    },
    {
     "name": "stdout",
     "output_type": "stream",
     "text": [
      "\t\tF1-score=0.8635235732009925, Accuracy=0.8611111111111112\n",
      "RGB and OPT\n",
      "\tcrnn_orig_run_3, 25\n"
     ]
    },
    {
     "name": "stderr",
     "output_type": "stream",
     "text": [
      "100%|██████████| 25/25 [04:55<00:00, 11.82s/it]"
     ]
    },
    {
     "name": "stdout",
     "output_type": "stream",
     "text": [
      "\t\tF1-score=0.8873239436619719, Accuracy=0.8787878787878788\n"
     ]
    },
    {
     "name": "stderr",
     "output_type": "stream",
     "text": [
      "\n"
     ]
    }
   ],
   "source": [
    "CNN_LSTM_rgb_input_results_root_dir = r\"/scratch/lingheng/cyc_safety_project_results/New_CNN_LSTM_rgb_only_input\"\n",
    "CNN_LSTM_fused_input_results_root_dir = r\"/scratch/lingheng/cyc_safety_project_results/New_CNN_LSTM_fused_input\"\n",
    "CNN_LSTM_rgb_and_opt_input_results_root_dir = r\"/scratch/lingheng/cyc_safety_project_results/New_CNN_LSTM_rgb_and_opt_input/\"\n",
    "\n",
    "# CNN_LSTM_rgb_input_results_root_dir = r\"/scratch/lingheng/cyc_safety_project_results/CNN_LSTM_rgb_only_input\"\n",
    "# CNN_LSTM_fused_input_results_root_dir = r\"/scratch/lingheng/cyc_safety_project_results/CNN_LSTM_fused_input\"\n",
    "# CNN_LSTM_rgb_and_opt_input_results_root_dir = r\"/scratch/lingheng/cyc_safety_project_results/CNN_LSTM_rgb_and_opt_input/\"\n",
    "\n",
    "\n",
    "training_losses_file = \"CRNN_epoch_training_losses.npy\"\n",
    "training_scores_file = \"CRNN_epoch_training_scores.npy\"\n",
    "test_score_file = \"CRNN_epoch_test_score.npy\"\n",
    "test_loss_file = \"CRNN_epoch_test_loss.npy\"\n",
    "\n",
    "input_type_dir = {'RGB': CNN_LSTM_rgb_input_results_root_dir, \n",
    "                  'Fused': CNN_LSTM_fused_input_results_root_dir, \n",
    "                  'RGB and OPT': CNN_LSTM_rgb_and_opt_input_results_root_dir}\n",
    "\n",
    "best_model_dict = {'RGB': {'run_name': 'crnn_orig_run_0', 'epoch': 27},\n",
    "                   'Fused': {'run_name': 'crnn_orig_run_1', 'epoch': 27},\n",
    "                   'RGB and OPT': {'run_name': 'crnn_orig_run_3', 'epoch': 25}}\n",
    "\n",
    "input_type_dict = {'RGB': 'rgb_only', 'Fused': 'fused', 'RGB and OPT': 'rgb_and_opt'}\n",
    "\n",
    "cnn_lstm_pred_dict = {}\n",
    "\n",
    "for input_type_name in best_model_dict:\n",
    "    print(input_type_name)\n",
    "    # Initialize\n",
    "    input_type = input_type_dict[input_type_name]\n",
    "    train_set, valid_set = rescnn_dataset_loader.VicCycLegacyDataset(csv_data_path,\n",
    "                                               rgb_frame_data_path, opt_frame_data_path, fused_frame_data_path,\n",
    "                                               split='train',\n",
    "                                               forward_frame_len=forward_frame_len,\n",
    "                                               backward_frame_len=backward_frame_len,\n",
    "                                               input_type=input_type, transform=transform), \\\n",
    "                           rescnn_dataset_loader.VicCycLegacyDataset(csv_data_path,\n",
    "                                               rgb_frame_data_path, opt_frame_data_path, fused_frame_data_path,\n",
    "                                               split='test',\n",
    "                                               forward_frame_len=forward_frame_len,\n",
    "                                               backward_frame_len=backward_frame_len,\n",
    "                                               input_type=input_type, transform=transform)\n",
    "\n",
    "    train_loader = data.DataLoader(train_set, **params)\n",
    "    valid_loader = data.DataLoader(valid_set, **params)\n",
    "\n",
    "    # Create model\n",
    "    cnn_encoder = ResCNNEncoder(fc_hidden1=CNN_fc_hidden1, fc_hidden2=CNN_fc_hidden2, drop_p=dropout_p,\n",
    "                                CNN_embed_dim=CNN_embed_dim, input_type=input_type).to(device)\n",
    "    rnn_decoder = DecoderRNN(CNN_embed_dim=CNN_embed_dim, h_RNN_layers=RNN_hidden_layers, h_RNN=RNN_hidden_nodes,\n",
    "                             h_FC_dim=RNN_FC_dim, drop_p=dropout_p, num_classes=num_classes,\n",
    "                             input_type=input_type).to(device)\n",
    "    #\n",
    "    run_path = os.path.join(input_type_dir[input_type_name], best_model_dict[input_type_name]['run_name'])\n",
    "    model_epoch = best_model_dict[input_type_name]['epoch']\n",
    "    print('\\t{}, {}'.format(best_model_dict[input_type_name]['run_name'], model_epoch))\n",
    "    \n",
    "    #\n",
    "    cnn_lstm_cnn_encoder_model_state = torch.load(os.path.join(run_path, 'cnn_encoder_epoch{}.pth'.format(model_epoch)))\n",
    "    cnn_lstm_rnn_decoder_model_state = torch.load(os.path.join(run_path, 'rnn_decoder_epoch{}.pth'.format(model_epoch)))\n",
    "    # Load\n",
    "    cnn_encoder.load_state_dict(cnn_lstm_cnn_encoder_model_state)\n",
    "    rnn_decoder.load_state_dict(cnn_lstm_rnn_decoder_model_state)\n",
    "    # Predict\n",
    "    all_y, all_y_pred, all_output = crnn_final_prediction([cnn_encoder, rnn_decoder], device, valid_loader)\n",
    "    cnn_lstm_pred_dict[input_type_name] = {'all_y': all_y, 'all_y_pred': all_y_pred, 'all_output': all_output}\n",
    "    \n",
    "    f1_score_result = f1_score(all_y, all_y_pred, average='binary')\n",
    "    accuracy_result = accuracy_score(all_y, all_y_pred)\n",
    "    print('\\t\\tF1-score={}, Accuracy={}'.format(f1_score_result, accuracy_result))\n"
   ]
  },
  {
   "cell_type": "markdown",
   "id": "a35fa52d",
   "metadata": {},
   "source": [
    "## I3D"
   ]
  },
  {
   "cell_type": "code",
   "execution_count": 7,
   "id": "21a10c92",
   "metadata": {},
   "outputs": [],
   "source": [
    "\n",
    "batch_size = 16\n",
    "h_res_size = 256\n",
    "w_res_size = 342\n",
    "forward_frame_len = 5\n",
    "backward_frame_len = 15\n",
    "\n",
    "csv_data_path = r\"/project/6055479/lingheng/cyc_near_miss/dataset_utils/dataset_vic_cyc_legacy/NearMiss_classification.csv\"\n",
    "rgb_frame_data_path = r\"/scratch/lingheng/cyc_safety_project/vic_cyc_legacy_pass_event_clip_rgb_frame/\"\n",
    "opt_frame_data_path = r\"/scratch/lingheng/cyc_safety_project/vic_cyc_legacy_pass_event_clip_opt_frame/\"\n",
    "fused_frame_data_path = r\"/scratch/lingheng/cyc_safety_project/vic_cyc_legacy_pass_event_clip_fused_frame/\"\n",
    "\n",
    "fc_hidden1 = 256\n",
    "fc_hidden2 = 256\n",
    "dropout_p = 0\n",
    "num_classes = 2"
   ]
  },
  {
   "cell_type": "code",
   "execution_count": 8,
   "id": "03096ab5",
   "metadata": {},
   "outputs": [],
   "source": [
    "# Detect devices\n",
    "use_cuda = torch.cuda.is_available()                   # check if GPU exists\n",
    "device = torch.device(\"cuda\" if use_cuda else \"cpu\")   # use CPU or GPU\n",
    "\n",
    "# load UCF101 actions names\n",
    "params = {'batch_size': batch_size, 'shuffle': True, 'num_workers': 4, 'pin_memory': True} if use_cuda else {}\n",
    "\n",
    "# image transformation\n",
    "transform = transforms.Compose([transforms.Resize([h_res_size, w_res_size]),\n",
    "                                transforms.ToTensor(),\n",
    "                                transforms.Normalize(mean=[0.5], std=[0.5])])\n"
   ]
  },
  {
   "cell_type": "code",
   "execution_count": 9,
   "id": "72443e4b",
   "metadata": {},
   "outputs": [],
   "source": [
    "def Conv3d_final_prediction(model, device, loader):\n",
    "    model.eval()\n",
    "\n",
    "    all_y_pred, all_y = [], []\n",
    "    all_output = []\n",
    "    with torch.no_grad():\n",
    "        for batch_idx, (X, y) in enumerate(tqdm(loader)):\n",
    "            # distribute data to device\n",
    "            if isinstance(X, list):  # For 2-streams, X is a tuple of (rgb, opt)\n",
    "                X = (X[0].to(device), X[1].to(device))\n",
    "                y = y.to(device).view(-1, )\n",
    "            else:\n",
    "                X, y = X.to(device), y.to(device).view(-1, )\n",
    "            \n",
    "            output = model(X)\n",
    "            y_pred = output.max(1, keepdim=True)[1]  # location of max log-probability as prediction\n",
    "            all_output.extend(output)\n",
    "            if str(device) == 'cpu':\n",
    "                all_y_pred.extend(y_pred.data.squeeze().numpy().tolist())\n",
    "                all_y.extend(y.data.squeeze().numpy().tolist())\n",
    "            else:\n",
    "                all_y_pred.extend(y_pred.cpu().data.squeeze().numpy().tolist())\n",
    "                all_y.extend(y.cpu().data.squeeze().numpy().tolist())\n",
    "            \n",
    "    return all_y, all_y_pred, all_output"
   ]
  },
  {
   "cell_type": "code",
   "execution_count": 10,
   "id": "9c97ad02",
   "metadata": {},
   "outputs": [
    {
     "name": "stdout",
     "output_type": "stream",
     "text": [
      "RGB\n",
      "\ti3d_run_4, 10\n"
     ]
    },
    {
     "name": "stderr",
     "output_type": "stream",
     "text": [
      "100%|██████████| 25/25 [02:21<00:00,  5.65s/it]\n"
     ]
    },
    {
     "name": "stdout",
     "output_type": "stream",
     "text": [
      "\t\tF1-score=0.8471177944862155, Accuracy=0.8459595959595959\n",
      "Fused\n",
      "\ti3d_run_3, 13\n"
     ]
    },
    {
     "name": "stderr",
     "output_type": "stream",
     "text": [
      "100%|██████████| 25/25 [01:58<00:00,  4.72s/it]\n"
     ]
    },
    {
     "name": "stdout",
     "output_type": "stream",
     "text": [
      "\t\tF1-score=0.8528678304239401, Accuracy=0.851010101010101\n",
      "RGB and OPT\n",
      "\ti3d_run_2, 29\n"
     ]
    },
    {
     "name": "stderr",
     "output_type": "stream",
     "text": [
      "100%|██████████| 25/25 [01:58<00:00,  4.72s/it]"
     ]
    },
    {
     "name": "stdout",
     "output_type": "stream",
     "text": [
      "\t\tF1-score=0.8205128205128205, Accuracy=0.8232323232323232\n"
     ]
    },
    {
     "name": "stderr",
     "output_type": "stream",
     "text": [
      "\n"
     ]
    }
   ],
   "source": [
    "# i3d_rgb_input_results_root_dir = r\"/scratch/lingheng/cyc_safety_project_results/New_i3d_rgb_only_input\"\n",
    "# i3d_fused_input_results_root_dir = r\"/scratch/lingheng/cyc_safety_project_results/New_i3d_fused_input\"\n",
    "# i3d_rgb_and_opt_input_results_root_dir = r\"/scratch/lingheng/cyc_safety_project_results/New_i3d_rgb_and_opt_input\"\n",
    "\n",
    "i3d_rgb_input_results_root_dir = r\"/scratch/lingheng/cyc_safety_project_results/New_i3d_WithDropout_rgb_only_input\"\n",
    "i3d_fused_input_results_root_dir = r\"/scratch/lingheng/cyc_safety_project_results/New_i3d_WithDropout_fused_input\"\n",
    "i3d_rgb_and_opt_input_results_root_dir = r\"/scratch/lingheng/cyc_safety_project_results/New_i3d_WithDropout_rgb_and_opt_input\"\n",
    "\n",
    "\n",
    "training_losses_file = \"3DCNN_epoch_training_losses.npy\"\n",
    "training_scores_file = \"3DCNN_epoch_training_scores.npy\"\n",
    "test_score_file = \"3DCNN_epoch_test_score.npy\"\n",
    "test_loss_file = \"3DCNN_epoch_test_loss.npy\"\n",
    "\n",
    "input_type_dir = {'RGB': i3d_rgb_input_results_root_dir, \n",
    "                  'Fused': i3d_fused_input_results_root_dir, \n",
    "                  'RGB and OPT': i3d_rgb_and_opt_input_results_root_dir}\n",
    "\n",
    "# best_model_dict = {'RGB': {'run_name': 'i3d_run_3', 'epoch': 9},\n",
    "#                    'Fused': {'run_name': 'i3d_run_1', 'epoch': 8},\n",
    "#                    'RGB and OPT': {'run_name': 'i3d_run_3', 'epoch': 13}}\n",
    "\n",
    "best_model_dict = {'RGB': {'run_name': 'i3d_run_4', 'epoch': 10},\n",
    "                   'Fused': {'run_name': 'i3d_run_3', 'epoch': 13},\n",
    "                   'RGB and OPT': {'run_name': 'i3d_run_2', 'epoch': 29}}\n",
    "\n",
    "input_type_dict = {'RGB': 'rgb_only', 'Fused': 'fused', 'RGB and OPT': 'rgb_and_opt'}\n",
    "\n",
    "i3d_pred_dict = {}\n",
    "\n",
    "for input_type_name in best_model_dict:\n",
    "    print(input_type_name)\n",
    "    # Initialize\n",
    "    input_type = input_type_dict[input_type_name]\n",
    "    train_set, valid_set = cnn3d_dataset_loader.VicCycLegacyDataset(csv_data_path,\n",
    "                                               rgb_frame_data_path, opt_frame_data_path, fused_frame_data_path,\n",
    "                                               split='train',\n",
    "                                               forward_frame_len=forward_frame_len,\n",
    "                                               backward_frame_len=backward_frame_len,\n",
    "                                               input_type=input_type, transform=transform), \\\n",
    "                           cnn3d_dataset_loader.VicCycLegacyDataset(csv_data_path,\n",
    "                                               rgb_frame_data_path, opt_frame_data_path, fused_frame_data_path,\n",
    "                                               split='test',\n",
    "                                               forward_frame_len=forward_frame_len,\n",
    "                                               backward_frame_len=backward_frame_len,\n",
    "                                               input_type=input_type, transform=transform)\n",
    "\n",
    "    train_loader = data.DataLoader(train_set, **params)\n",
    "    valid_loader = data.DataLoader(valid_set, **params)\n",
    "\n",
    "    # Create model\n",
    "    cnn3d = CNN3D(t_dim=forward_frame_len+backward_frame_len, img_x=h_res_size, img_y=w_res_size,\n",
    "                  drop_p=dropout_p, fc_hidden1=fc_hidden1,  fc_hidden2=fc_hidden2,\n",
    "                  num_classes=num_classes, input_type=input_type).to(device)\n",
    "    \n",
    "    #\n",
    "    run_path = os.path.join(input_type_dir[input_type_name], best_model_dict[input_type_name]['run_name'])\n",
    "    model_epoch = best_model_dict[input_type_name]['epoch']\n",
    "    print('\\t{}, {}'.format(best_model_dict[input_type_name]['run_name'], model_epoch))\n",
    "    \n",
    "    #\n",
    "    cnn3d_model_state = torch.load(os.path.join(run_path, '3dcnn_epoch{}.pth'.format(model_epoch)))\n",
    "    \n",
    "    # Load\n",
    "    cnn3d.load_state_dict(cnn3d_model_state)\n",
    "    \n",
    "    # Predict\n",
    "    all_y, all_y_pred, all_output = Conv3d_final_prediction(cnn3d, device, valid_loader)\n",
    "    i3d_pred_dict[input_type_name] = {'all_y': all_y, 'all_y_pred': all_y_pred, 'all_output': all_output}\n",
    "    \n",
    "    f1_score_result = f1_score(all_y, all_y_pred, average='binary')\n",
    "    accuracy_result = accuracy_score(all_y, all_y_pred)\n",
    "    print('\\t\\tF1-score={}, Accuracy={}'.format(f1_score_result, accuracy_result))\n"
   ]
  },
  {
   "cell_type": "code",
   "execution_count": 40,
   "id": "91fa9a1d",
   "metadata": {},
   "outputs": [
    {
     "data": {
      "image/png": "[encoded data removed]",
      "text/plain": [
       "<Figure size 640x480 with 1 Axes>"
      ]
     },
     "metadata": {},
     "output_type": "display_data"
    }
   ],
   "source": [
    "color = {'RGB': 'r', 'Fused': 'b', 'RGB and OPT': 'g'}\n",
    "fontsize = 10\n",
    "\n",
    "fig, ax = plt.subplots(1,1)\n",
    "# CNN+LSTM\n",
    "for input_type_name in cnn_lstm_pred_dict:\n",
    "    all_y = cnn_lstm_pred_dict[input_type_name]['all_y']\n",
    "    all_y_pred = cnn_lstm_pred_dict[input_type_name]['all_y_pred']\n",
    "    all_output = torch.stack(cnn_lstm_pred_dict[input_type_name]['all_output'])\n",
    "    \n",
    "    pred_prob = nnf.softmax(all_output, dim=1).cpu().data.squeeze().numpy()\n",
    "    \n",
    "    ns_auc = roc_auc_score(all_y, pred_prob[:,1])\n",
    "    lr_fpr, lr_tpr, _ = roc_curve(all_y, pred_prob[:,1])\n",
    "\n",
    "    # plot the roc curve for the model\n",
    "    ax.plot(lr_fpr, lr_tpr, label='CNN+LSTM: {} (AUC={:.2f})'.format(input_type_name, ns_auc), linestyle='-', color=color[input_type_name])\n",
    "\n",
    "# I3D\n",
    "for input_type_name in i3d_pred_dict:\n",
    "    all_y = i3d_pred_dict[input_type_name]['all_y']\n",
    "    all_y_pred = i3d_pred_dict[input_type_name]['all_y_pred']\n",
    "    all_output = torch.stack(i3d_pred_dict[input_type_name]['all_output'])\n",
    "    \n",
    "    pred_prob = nnf.softmax(all_output, dim=1).cpu().data.squeeze().numpy()\n",
    "    \n",
    "    ns_auc = roc_auc_score(all_y, pred_prob[:,1])\n",
    "    lr_fpr, lr_tpr, _ = roc_curve(all_y, pred_prob[:,1])\n",
    "\n",
    "    # plot the roc curve for the model\n",
    "    # pyplot.plot(ns_fpr, ns_tpr, linestyle='--', label='No Skill')\n",
    "    ax.plot(lr_fpr, lr_tpr, label='I3D: {} (AUC={:.2f})'.format(input_type_name, ns_auc), linestyle=':', color=color[input_type_name])\n",
    "\n",
    "ax.plot(lr_fpr, lr_fpr, linestyle='-.', color='gray')\n",
    "    \n",
    "# axis labels\n",
    "ax.set_xlabel('False Positive Rate', fontsize=fontsize)\n",
    "ax.set_ylabel('True Positive Rate', fontsize=fontsize)\n",
    "ax.tick_params(axis='both', which='major', labelsize=fontsize)\n",
    "ax.tick_params(axis='both', which='major', labelsize=fontsize)\n",
    "# show the legend\n",
    "ax.legend(fontsize=fontsize, loc='lower right')\n",
    "ax.set_aspect('equal', adjustable='box')\n",
    "ax.set_title('ROC Curves', fontsize=fontsize+2)\n",
    "fig.savefig('./roc.png', dpi=400, bbox_inches='tight', pad_inches=0)"
   ]
  },
  {
   "cell_type": "code",
   "execution_count": null,
   "id": "f18cd9fd",
   "metadata": {},
   "outputs": [],
   "source": []
  }
 ],
 "metadata": {
  "kernelspec": {
   "display_name": "Python 3 (ipykernel)",
   "language": "python",
   "name": "python3"
  },
  "language_info": {
   "codemirror_mode": {
    "name": "ipython",
    "version": 3
   },
   "file_extension": ".py",
   "mimetype": "text/x-python",
   "name": "python",
   "nbconvert_exporter": "python",
   "pygments_lexer": "ipython3",
   "version": "3.8.10"
  }
 },
 "nbformat": 4,
 "nbformat_minor": 5
}
