{
 "cells": [
  {
   "cell_type": "markdown",
   "id": "264a2689",
   "metadata": {},
   "source": [
    "# This notebook is used to generate scene-level learning jobs on Victorian On-bike Cycling (legacy) dataset"
   ]
  },
  {
   "cell_type": "code",
   "execution_count": 1,
   "id": "fd3912ca",
   "metadata": {},
   "outputs": [],
   "source": [
    "import os\n",
    "import pandas as pd\n",
    "import numpy as np\n",
    "import subprocess\n",
    "from tqdm import tqdm\n",
    "import time\n",
    "import shutil\n",
    "import cv2"
   ]
  },
  {
   "cell_type": "code",
   "execution_count": 2,
   "id": "6f46df15",
   "metadata": {},
   "outputs": [],
   "source": [
    "csv_data_path = r\"/project/6055479/lingheng/cyc_near_miss/dataset_utils/dataset_vic_cyc_legacy/NearMiss_classification.csv\"\n",
    "rgb_frame_data_path = r\"/scratch/lingheng/cyc_safety_project/vic_cyc_legacy_pass_event_clip_rgb_frame/\"\n",
    "opt_frame_data_path = r\"/scratch/lingheng/cyc_safety_project/vic_cyc_legacy_pass_event_clip_opt_frame/\"\n",
    "fused_frame_data_path = r\"/scratch/lingheng/cyc_safety_project/vic_cyc_legacy_pass_event_clip_fused_frame/\"\n"
   ]
  },
  {
   "cell_type": "markdown",
   "id": "08bb487e",
   "metadata": {},
   "source": [
    "## CNN+LSTM"
   ]
  },
  {
   "cell_type": "code",
   "execution_count": 40,
   "id": "0d0e8591",
   "metadata": {},
   "outputs": [],
   "source": [
    "job_script_root_dir = '/scratch/lingheng/cyc_safety_job_crnn_orig_scripts'\n",
    "job_output_root_dir = '/scratch/lingheng/cyc_safety_job_crnn_orig_output'\n",
    "if not os.path.exists(job_script_root_dir):\n",
    "    os.makedirs(job_script_root_dir)\n",
    "else:\n",
    "    # If exist, remove to avoid recreate job scripts\n",
    "    shutil.rmtree(job_script_root_dir)\n",
    "    os.makedirs(job_script_root_dir)\n",
    "    \n",
    "if not os.path.exists(job_output_root_dir):\n",
    "    os.makedirs(job_output_root_dir)"
   ]
  },
  {
   "cell_type": "code",
   "execution_count": 41,
   "id": "6ffa377e",
   "metadata": {},
   "outputs": [
    {
     "name": "stdout",
     "output_type": "stream",
     "text": [
      "run_i=0\n",
      "run_i=1\n",
      "run_i=2\n",
      "run_i=3\n",
      "run_i=4\n"
     ]
    }
   ],
   "source": [
    "run_num = 5\n",
    "input_type = 'rgb_only' # 'rgb_only', 'fused', 'rgb_and_opt'\n",
    "exp_data_dir = r\"/scratch/lingheng/cyc_safety_project_results/New_CNN_LSTM_{}_input\".format(input_type)\n",
    "\n",
    "for run_i in range(run_num):\n",
    "    # Get start and end id for the batch\n",
    "    print('run_i={}'.format(run_i))\n",
    "    #\n",
    "    job_script_name = 'job_crnn_orig-{}-{}.sh'.format(input_type, run_i)\n",
    "    job_output_name = 'output_crnn_orig-{}-{}_R-%x.%j.out'.format(input_type, run_i)\n",
    "    # Write batch job script\n",
    "    with open(os.path.join(job_script_root_dir, job_script_name), 'w', encoding='utf8', newline='\\n') as f:\n",
    "        f.write('''\\\n",
    "#!/bin/bash\n",
    "#SBATCH --account=def-rgorbet\n",
    "#SBATCH --nodes=1                # When requesting GPUs per node the number of nodes must be specified.\n",
    "#SBATCH --gpus-per-node=1\n",
    "#SBATCH --ntasks=5               # number of MPI processes\n",
    "#SBATCH --mem-per-cpu=10000M          # memory; default unit is megabytes\n",
    "#SBATCH --time=0-20:0         # time (DD-HH:MM)\n",
    "#SBATCH --output={0}/{1}\n",
    "\n",
    "source /home/lingheng/cyc_env/bin/activate\n",
    "module load python/3.8\n",
    "pip3 install ipython\n",
    "python /project/6055479/lingheng/cyc_near_miss/cnm/scene_lvl/crnn_orig/crnn.py --csv_data_path {2} --rgb_frame_data_path {3} --opt_frame_data_path {4} --fused_frame_data_path {5} --input_type {6} --epochs 50 --exp_name {7} --exp_data_dir {8}\n",
    "                '''.format(job_output_root_dir, job_output_name,\n",
    "                           csv_data_path, rgb_frame_data_path, opt_frame_data_path, fused_frame_data_path, input_type,\n",
    "                           'crnn_orig_run_{}'.format(run_i), \n",
    "                            exp_data_dir))"
   ]
  },
  {
   "cell_type": "code",
   "execution_count": 42,
   "id": "a61606f6",
   "metadata": {},
   "outputs": [
    {
     "data": {
      "text/plain": [
       "['job_crnn_orig-rgb_only-0.sh',\n",
       " 'job_crnn_orig-rgb_only-1.sh',\n",
       " 'job_crnn_orig-rgb_only-2.sh',\n",
       " 'job_crnn_orig-rgb_only-3.sh',\n",
       " 'job_crnn_orig-rgb_only-4.sh']"
      ]
     },
     "execution_count": 42,
     "metadata": {},
     "output_type": "execute_result"
    }
   ],
   "source": [
    "job_script_list = os.listdir(job_script_root_dir)\n",
    "job_script_list.sort()\n",
    "job_script_list"
   ]
  },
  {
   "cell_type": "code",
   "execution_count": 43,
   "id": "244f8a13",
   "metadata": {},
   "outputs": [
    {
     "data": {
      "text/plain": [
       "5"
      ]
     },
     "execution_count": 43,
     "metadata": {},
     "output_type": "execute_result"
    }
   ],
   "source": [
    "len(job_script_list)"
   ]
  },
  {
   "cell_type": "code",
   "execution_count": 44,
   "id": "afb985f3",
   "metadata": {},
   "outputs": [
    {
     "name": "stdout",
     "output_type": "stream",
     "text": [
      "Submitting 0: /scratch/lingheng/cyc_safety_job_crnn_orig_scripts/job_crnn_orig-rgb_only-0.sh\n",
      "Submitted batch job 63489470\n",
      "#########################################################################################\n",
      "Submitting 1: /scratch/lingheng/cyc_safety_job_crnn_orig_scripts/job_crnn_orig-rgb_only-1.sh\n",
      "Submitted batch job 63489471\n",
      "#########################################################################################\n",
      "Submitting 2: /scratch/lingheng/cyc_safety_job_crnn_orig_scripts/job_crnn_orig-rgb_only-2.sh\n",
      "Submitted batch job 63489472\n",
      "#########################################################################################\n",
      "Submitting 3: /scratch/lingheng/cyc_safety_job_crnn_orig_scripts/job_crnn_orig-rgb_only-3.sh\n",
      "Submitted batch job 63489473\n",
      "#########################################################################################\n",
      "Submitting 4: /scratch/lingheng/cyc_safety_job_crnn_orig_scripts/job_crnn_orig-rgb_only-4.sh\n",
      "Submitted batch job 63489474\n",
      "#########################################################################################\n"
     ]
    }
   ],
   "source": [
    "for job_i, job_script in enumerate(job_script_list):\n",
    "    job_script_path = os.path.join(job_script_root_dir, job_script)\n",
    "    print('Submitting {}: {}'.format(job_i, job_script_path))  \n",
    "    !sbatch {job_script_path} \n",
    "    print(\"#########################################################################################\")"
   ]
  },
  {
   "cell_type": "markdown",
   "id": "0f3c26d8",
   "metadata": {},
   "source": [
    "## I3D"
   ]
  },
  {
   "cell_type": "code",
   "execution_count": 17,
   "id": "bde9b2dc",
   "metadata": {},
   "outputs": [],
   "source": [
    "job_script_root_dir = '/scratch/lingheng/cyc_safety_job_scripts_i3d'\n",
    "job_output_root_dir = '/scratch/lingheng/cyc_safety_job_output_i3d'\n",
    "if not os.path.exists(job_script_root_dir):\n",
    "    os.makedirs(job_script_root_dir)\n",
    "else:\n",
    "    # If exist, remove to avoid recreate job scripts\n",
    "    shutil.rmtree(job_script_root_dir)\n",
    "    os.makedirs(job_script_root_dir)\n",
    "    \n",
    "if not os.path.exists(job_output_root_dir):\n",
    "    os.makedirs(job_output_root_dir)"
   ]
  },
  {
   "cell_type": "code",
   "execution_count": 18,
   "id": "0495ed15",
   "metadata": {},
   "outputs": [
    {
     "name": "stdout",
     "output_type": "stream",
     "text": [
      "run_i=0\n",
      "run_i=1\n",
      "run_i=2\n",
      "run_i=3\n",
      "run_i=4\n"
     ]
    }
   ],
   "source": [
    "run_num = 5\n",
    "input_type = 'rgb_and_opt' # 'rgb_only', 'fused', 'rgb_and_opt'\n",
    "exp_data_dir = r\"/scratch/lingheng/cyc_safety_project_results/New_i3d_WithDropout_{}_input\".format(input_type)\n",
    "\n",
    "for run_i in range(run_num):\n",
    "    # Get start and end id for the batch\n",
    "    print('run_i={}'.format(run_i))\n",
    "    #\n",
    "    job_script_name = 'job_i3d-{}-{}.sh'.format(input_type, run_i)\n",
    "    job_output_name = 'output_i3d-{}-{}_R-%x.%j.out'.format(input_type, run_i)\n",
    "    # Write batch job script\n",
    "    with open(os.path.join(job_script_root_dir, job_script_name), 'w', encoding='utf8', newline='\\n') as f:\n",
    "        f.write('''\\\n",
    "#!/bin/bash\n",
    "#SBATCH --account=def-rgorbet\n",
    "#SBATCH --nodes=1                # When requesting GPUs per node the number of nodes must be specified.\n",
    "#SBATCH --gpus-per-node=1\n",
    "#SBATCH --ntasks=5               # number of MPI processes\n",
    "#SBATCH --mem-per-cpu=10000M          # memory; default unit is megabytes\n",
    "#SBATCH --time=0-20:0         # time (DD-HH:MM)\n",
    "#SBATCH --output={0}/{1}\n",
    "\n",
    "source /home/lingheng/cyc_env/bin/activate\n",
    "module load python/3.8\n",
    "pip3 install ipython\n",
    "python /project/6055479/lingheng/cyc_near_miss/cnm/scene_lvl/i3d/i3d.py --csv_data_path {2} --rgb_frame_data_path {3} --opt_frame_data_path {4} --fused_frame_data_path {5} --input_type {6} --epochs 50 --dropout_p 0.1 --exp_name {7} --exp_data_dir {8}\n",
    "                '''.format(job_output_root_dir, job_output_name,\n",
    "                           csv_data_path, rgb_frame_data_path, opt_frame_data_path, fused_frame_data_path, input_type,\n",
    "                           'i3d_run_{}'.format(run_i), \n",
    "                            exp_data_dir))"
   ]
  },
  {
   "cell_type": "code",
   "execution_count": 19,
   "id": "f9d75f5d",
   "metadata": {},
   "outputs": [
    {
     "data": {
      "text/plain": [
       "['job_i3d-rgb_and_opt-0.sh',\n",
       " 'job_i3d-rgb_and_opt-1.sh',\n",
       " 'job_i3d-rgb_and_opt-2.sh',\n",
       " 'job_i3d-rgb_and_opt-3.sh',\n",
       " 'job_i3d-rgb_and_opt-4.sh']"
      ]
     },
     "execution_count": 19,
     "metadata": {},
     "output_type": "execute_result"
    }
   ],
   "source": [
    "job_script_list = os.listdir(job_script_root_dir)\n",
    "job_script_list.sort()\n",
    "job_script_list"
   ]
  },
  {
   "cell_type": "code",
   "execution_count": 20,
   "id": "b7ba4b77",
   "metadata": {},
   "outputs": [
    {
     "data": {
      "text/plain": [
       "5"
      ]
     },
     "execution_count": 20,
     "metadata": {},
     "output_type": "execute_result"
    }
   ],
   "source": [
    "len(job_script_list)"
   ]
  },
  {
   "cell_type": "code",
   "execution_count": 21,
   "id": "ddc9f908",
   "metadata": {},
   "outputs": [
    {
     "name": "stdout",
     "output_type": "stream",
     "text": [
      "Submitting 0: /scratch/lingheng/cyc_safety_job_scripts_i3d/job_i3d-rgb_and_opt-0.sh\n",
      "Submitted batch job 63548085\n",
      "#########################################################################################\n",
      "Submitting 1: /scratch/lingheng/cyc_safety_job_scripts_i3d/job_i3d-rgb_and_opt-1.sh\n",
      "Submitted batch job 63548086\n",
      "#########################################################################################\n",
      "Submitting 2: /scratch/lingheng/cyc_safety_job_scripts_i3d/job_i3d-rgb_and_opt-2.sh\n",
      "Submitted batch job 63548088\n",
      "#########################################################################################\n",
      "Submitting 3: /scratch/lingheng/cyc_safety_job_scripts_i3d/job_i3d-rgb_and_opt-3.sh\n",
      "Submitted batch job 63548089\n",
      "#########################################################################################\n",
      "Submitting 4: /scratch/lingheng/cyc_safety_job_scripts_i3d/job_i3d-rgb_and_opt-4.sh\n",
      "Submitted batch job 63548090\n",
      "#########################################################################################\n"
     ]
    }
   ],
   "source": [
    "for job_i, job_script in enumerate(job_script_list):\n",
    "    job_script_path = os.path.join(job_script_root_dir, job_script)\n",
    "    print('Submitting {}: {}'.format(job_i, job_script_path))  \n",
    "    !sbatch {job_script_path} \n",
    "    print(\"#########################################################################################\")"
   ]
  },
  {
   "cell_type": "code",
   "execution_count": null,
   "id": "17bc2a22",
   "metadata": {},
   "outputs": [],
   "source": []
  }
 ],
 "metadata": {
  "kernelspec": {
   "display_name": "Python 3 (ipykernel)",
   "language": "python",
   "name": "python3"
  },
  "language_info": {
   "codemirror_mode": {
    "name": "ipython",
    "version": 3
   },
   "file_extension": ".py",
   "mimetype": "text/x-python",
   "name": "python",
   "nbconvert_exporter": "python",
   "pygments_lexer": "ipython3",
   "version": "3.8.10"
  }
 },
 "nbformat": 4,
 "nbformat_minor": 5
}
