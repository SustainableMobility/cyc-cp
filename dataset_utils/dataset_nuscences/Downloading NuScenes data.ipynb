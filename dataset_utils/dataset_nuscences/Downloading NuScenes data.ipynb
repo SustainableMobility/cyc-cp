{
 "cells": [
  {
   "cell_type": "markdown",
   "id": "professional-power",
   "metadata": {},
   "source": [
    "# Downloading NuScenes data\n",
    "The reason for this notebook is normally downloading with a browser will cause fail after a while due to network connection problem."
   ]
  },
  {
   "cell_type": "code",
   "execution_count": null,
   "id": "dress-carter",
   "metadata": {},
   "outputs": [],
   "source": [
    "import wget\n",
    "from tqdm import tqdm\n",
    "import progressbar\n",
    "import urllib.request\n",
    "import os"
   ]
  },
  {
   "cell_type": "markdown",
   "id": "chief-apache",
   "metadata": {},
   "source": [
    "# Full Dataset (v1.0)\n",
    "* Downloading Nuscenes from https://www.nuscenes.org/nuscenes#download needs an account, so we cannot really automatically download with url.\n",
    "* In order to make this code work, \n",
    "    * login in with your account\n",
    "    * click the data that you are going to download\n",
    "    * once downloading started, copy the downloading link (each time the link will be different) from your browser's Downloads panel\n",
    "    * paste the downloading link into this notebook\n",
    "    * run downloading"
   ]
  },
  {
   "cell_type": "code",
   "execution_count": null,
   "id": "authentic-indian",
   "metadata": {},
   "outputs": [],
   "source": [
    "# Function used to show downloading progress bar\n",
    "pbar = None\n",
    "def show_progress(block_num, block_size, total_size):\n",
    "    global pbar\n",
    "    if pbar is None:\n",
    "        pbar = progressbar.ProgressBar(maxval=total_size)\n",
    "        pbar.start()\n",
    "\n",
    "    downloaded = block_num * block_size\n",
    "    if downloaded < total_size:\n",
    "        pbar.update(downloaded)\n",
    "    else:\n",
    "        pbar.finish()\n",
    "        pbar = None"
   ]
  },
  {
   "cell_type": "code",
   "execution_count": null,
   "id": "acknowledged-veteran",
   "metadata": {},
   "outputs": [],
   "source": [
    "# Mini\n",
    "mini_us_url = \"\"\n",
    "mini_asia_url = \"\"\n",
    "\n",
    "# Trainval\n",
    "trainval_metadata_us_url = \"\"\n",
    "trainval_part1_us_url = \"\"\n",
    "trainval_part2_us_url = \"\"\n",
    "trainval_part3_us_url = \"\"\n",
    "trainval_part4_us_url = \"\"\n",
    "trainval_part5_us_url = \"\"\n",
    "trainval_part6_us_url = \"\"\n",
    "trainval_part7_us_url = \"\"\n",
    "trainval_part8_us_url = \"\"\n",
    "trainval_part9_us_url = \"\"\n",
    "trainval_part10_us_url = \"\"\n",
    "\n",
    "trainval_metadata_asia_url = \"\"\n",
    "trainval_part1_asia_url = \"\"\n",
    "trainval_part2_asia_url = \"\"\n",
    "trainval_part3_asia_url = \"\"\n",
    "trainval_part4_asia_url = \"\"\n",
    "trainval_part5_asia_url = \"\"\n",
    "trainval_part6_asia_url = \"\"\n",
    "trainval_part7_asia_url = \"\"\n",
    "trainval_part8_asia_url = \"\"\n",
    "trainval_part9_asia_url = \"\"\n",
    "trainval_part10_asia_url = \"\"\n",
    "\n",
    "# Test\n",
    "test_metadata_us_url = \"\"\n",
    "test_sensor_us_url = \"\"\n",
    "\n",
    "test_metadata_asia_url = \"\"\n",
    "test_sensor_asia_url = \"\"\n"
   ]
  },
  {
   "cell_type": "markdown",
   "id": "rational-confirmation",
   "metadata": {},
   "source": [
    "Note: please exclude the data that you don't want to download from the list"
   ]
  },
  {
   "cell_type": "code",
   "execution_count": null,
   "id": "referenced-portugal",
   "metadata": {},
   "outputs": [],
   "source": [
    "us_data_url_list = [mini_us_url, trainval_metadata_us_url, \n",
    "                    trainval_part1_us_url, trainval_part2_us_url,trainval_part3_us_url,\n",
    "                    trainval_part4_us_url, trainval_part5_us_url, trainval_part6_us_url, \n",
    "                    trainval_part7_us_url, trainval_part8_us_url, trainval_part9_us_url, trainval_part10_us_url,\n",
    "                    test_metadata_us_url, test_sensor_us_url]\n",
    "asia_data_url_list = [mini_asia_url, trainval_metadata_asia_url,\n",
    "                      trainval_part1_asia_url,trainval_part2_asia_url, trainval_part3_asia_url,\n",
    "                      trainval_part4_asia_url, trainval_part5_asia_url, trainval_part6_asia_url,\n",
    "                      trainval_part7_asia_url, trainval_part8_asia_url, trainval_part9_asia_url, trainval_part10_asia_url,\n",
    "                      test_metadata_asia_url, test_sensor_asia_url]"
   ]
  },
  {
   "cell_type": "code",
   "execution_count": null,
   "id": "grateful-aircraft",
   "metadata": {},
   "outputs": [],
   "source": [
    "data_root_path = r\"D:\\A_Monash_Cyc_Near_Miss_Detection\\NuScences_Data\"\n",
    "\n",
    "#\n",
    "print('Downloading US data ...')\n",
    "us_data_path = os.path.join(data_root_path, 'us_data')\n",
    "if not os.path.exists(us_data_path):\n",
    "    os.mkdir(us_data_path)\n",
    "    \n",
    "for tmp_url in tqdm(us_data_url_list):\n",
    "    default_file_name = tmp_url.split('/')[-1].split('?')[0]\n",
    "    file_path = os.path.join(us_data_path, default_file_name)\n",
    "    print('\\t Downloading: {}'.format(default_file_name))\n",
    "    (filename, headers) = urllib.request.urlretrieve(tmp_url, file_path, show_progress)\n",
    "    print(\"********************************************************************\")\n",
    "    break\n",
    "    \n",
    "# \n",
    "print('Downloading Asia data ...')\n",
    "asia_data_path = os.path.join(data_root_path, 'asia_data')\n",
    "if not os.path.exists(asia_data_path):\n",
    "    os.mkdir(asia_data_path)\n",
    "    \n",
    "for tmp_url in tqdm(asia_data_url_list):\n",
    "    file_name = wget.download(tmp_url)\n",
    "    print('\\t Downloaded {}'.format(file_name))\n"
   ]
  },
  {
   "cell_type": "code",
   "execution_count": null,
   "id": "amino-shanghai",
   "metadata": {},
   "outputs": [],
   "source": []
  }
 ],
 "metadata": {
  "kernelspec": {
   "display_name": "Python 3",
   "language": "python",
   "name": "python3"
  },
  "language_info": {
   "codemirror_mode": {
    "name": "ipython",
    "version": 3
   },
   "file_extension": ".py",
   "mimetype": "text/x-python",
   "name": "python",
   "nbconvert_exporter": "python",
   "pygments_lexer": "ipython3",
   "version": "3.7.10"
  },
  "pycharm": {
   "stem_cell": {
    "cell_type": "raw",
    "metadata": {
     "collapsed": false
    },
    "source": []
   }
  }
 },
 "nbformat": 4,
 "nbformat_minor": 5
}
