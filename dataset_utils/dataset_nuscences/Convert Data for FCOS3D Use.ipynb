{
 "cells": [
  {
   "cell_type": "markdown",
   "id": "choice-smart",
   "metadata": {},
   "source": [
    "# Convert Data for FCOS3D Use\n",
    "Usage of the functions can be found in `.\\mmdetection3d\\tools\\data_converter\\nuscenes_converter.py`"
   ]
  },
  {
   "cell_type": "code",
   "execution_count": null,
   "id": "protecting-studio",
   "metadata": {},
   "outputs": [],
   "source": []
  },
  {
   "cell_type": "code",
   "execution_count": 12,
   "id": "lasting-range",
   "metadata": {},
   "outputs": [],
   "source": [
    "root_path = r\"D:\\A_Monash_Cyc_Near_Miss_Detection\\NuScences_Data\\US_v1.0-mini\"  # Specify the NuScenes data folder\n",
    "version='v1.0-mini'"
   ]
  },
  {
   "cell_type": "markdown",
   "id": "stainless-password",
   "metadata": {},
   "source": [
    "## Generate info\n",
    "Generated .pkl info files can be found in the root_path"
   ]
  },
  {
   "cell_type": "code",
   "execution_count": 13,
   "id": "negative-intranet",
   "metadata": {},
   "outputs": [
    {
     "name": "stdout",
     "output_type": "stream",
     "text": [
      "======\n",
      "Loading NuScenes tables for version v1.0-mini...\n",
      "23 category,\n",
      "8 attribute,\n",
      "4 visibility,\n",
      "911 instance,\n",
      "12 sensor,\n",
      "120 calibrated_sensor,\n",
      "31206 ego_pose,\n",
      "8 log,\n",
      "10 scene,\n",
      "404 sample,\n",
      "31206 sample_data,\n",
      "18538 sample_annotation,\n",
      "4 map,\n",
      "Done loading in 1.158 seconds.\n",
      "======\n",
      "Reverse indexing ...\n",
      "Done reverse indexing in 0.1 seconds.\n",
      "======\n",
      "total scene num: 10\n",
      "exist scene num: 10\n",
      "train scene: 8, val scene: 2\n",
      "[>>>>>>>>>>>>>>>>>>>>>>>>>>>>>>>>>>>>>>>>>>>>>>>>>>] 404/404, 8.3 task/s, elapsed: 49s, ETA:     0s\n",
      "train sample: 323, val sample: 81\n"
     ]
    }
   ],
   "source": [
    "create_nuscenes_infos(root_path,\n",
    "                      'v1.0-mini',\n",
    "                      version,\n",
    "                      max_sweeps=10)"
   ]
  },
  {
   "cell_type": "markdown",
   "id": "metallic-parking",
   "metadata": {},
   "source": [
    "## Generate .json based annotation"
   ]
  },
  {
   "cell_type": "code",
   "execution_count": 10,
   "id": "separate-bloom",
   "metadata": {},
   "outputs": [],
   "source": [
    "train_info_path = r\"D:\\A_Monash_Cyc_Near_Miss_Detection\\NuScences_Data\\US_v1.0-mini\\v1.0-mini_infos_train.pkl\"\n",
    "val_info_path = r\"D:\\A_Monash_Cyc_Near_Miss_Detection\\NuScences_Data\\US_v1.0-mini\\v1.0-mini_infos_val.pkl\""
   ]
  },
  {
   "cell_type": "code",
   "execution_count": 11,
   "id": "tutorial-headline",
   "metadata": {},
   "outputs": [
    {
     "name": "stdout",
     "output_type": "stream",
     "text": [
      "======\n",
      "Loading NuScenes tables for version v1.0-mini...\n",
      "23 category,\n",
      "8 attribute,\n",
      "4 visibility,\n",
      "911 instance,\n",
      "12 sensor,\n",
      "120 calibrated_sensor,\n",
      "31206 ego_pose,\n",
      "8 log,\n",
      "10 scene,\n",
      "404 sample,\n",
      "31206 sample_data,\n",
      "18538 sample_annotation,\n",
      "4 map,\n",
      "Done loading in 0.654 seconds.\n",
      "======\n",
      "Reverse indexing ...\n",
      "Done reverse indexing in 0.1 seconds.\n",
      "======\n",
      "[>>>>>>>>>>>>>>>>>>>>>>>>>>>>>>>>>>>>>>>>>>>>>>>>>>] 323/323, 3.3 task/s, elapsed: 98s, ETA:     0s\n"
     ]
    }
   ],
   "source": [
    "export_2d_annotation(root_path, train_info_path, version, mono3d=True)"
   ]
  },
  {
   "cell_type": "code",
   "execution_count": 7,
   "id": "signal-procurement",
   "metadata": {},
   "outputs": [
    {
     "name": "stdout",
     "output_type": "stream",
     "text": [
      "======\n",
      "Loading NuScenes tables for version v1.0-mini...\n",
      "23 category,\n",
      "8 attribute,\n",
      "4 visibility,\n",
      "911 instance,\n",
      "12 sensor,\n",
      "120 calibrated_sensor,\n",
      "31206 ego_pose,\n",
      "8 log,\n",
      "10 scene,\n",
      "404 sample,\n",
      "31206 sample_data,\n",
      "18538 sample_annotation,\n",
      "4 map,\n",
      "Done loading in 0.670 seconds.\n",
      "======\n",
      "Reverse indexing ...\n",
      "Done reverse indexing in 0.1 seconds.\n",
      "======\n",
      "[                                                  ] 1/81, 3.6 task/s, elapsed: 0s, ETA:    22s"
     ]
    },
    {
     "name": "stderr",
     "output_type": "stream",
     "text": [
      "c:\\users\\lingheng\\.conda\\envs\\pl_env\\lib\\site-packages\\shapely\\predicates.py:798: RuntimeWarning: invalid value encountered in intersects\n",
      "  return lib.intersects(a, b, **kwargs)\n"
     ]
    },
    {
     "name": "stdout",
     "output_type": "stream",
     "text": [
      "[>>>>>>>>>>>>>>>>>>>>>>>>>>>>>>>>>>>>>>>>>>>>>>>>>>] 81/81, 2.8 task/s, elapsed: 29s, ETA:     0s\n"
     ]
    }
   ],
   "source": [
    "export_2d_annotation(root_path, val_info_path, version, mono3d=True)"
   ]
  },
  {
   "cell_type": "code",
   "execution_count": null,
   "id": "precise-resort",
   "metadata": {},
   "outputs": [],
   "source": []
  }
 ],
 "metadata": {
  "kernelspec": {
   "display_name": "Python 3",
   "language": "python",
   "name": "python3"
  },
  "language_info": {
   "codemirror_mode": {
    "name": "ipython",
    "version": 3
   },
   "file_extension": ".py",
   "mimetype": "text/x-python",
   "name": "python",
   "nbconvert_exporter": "python",
   "pygments_lexer": "ipython3",
   "version": "3.7.10"
  }
 },
 "nbformat": 4,
 "nbformat_minor": 5
}
