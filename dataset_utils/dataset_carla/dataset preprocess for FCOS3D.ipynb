{
 "cells": [
  {
   "cell_type": "code",
   "execution_count": 1,
   "metadata": {},
   "outputs": [],
   "source": [
    "import json\n",
    "import pandas as pd\n",
    "import os\n",
    "import pickle\n",
    "import math\n",
    "import cv2\n",
    "from tqdm import tqdm\n",
    "import numpy as np"
   ]
  },
  {
   "cell_type": "markdown",
   "metadata": {},
   "source": [
    "Please adapt according to your case:\n",
    "* img_data_path: specify the path to the images\n",
    "* out_data_path: specify the path to where the .json file should be saved\n",
    "* anatation parameters:\n",
    "    * cam_intrinsic: specify the intrinsic camera parameters (If not correctly specified, the inferred bounding box will mismatch the size of an object)"
   ]
  },
  {
   "cell_type": "markdown",
   "metadata": {},
   "source": [
    "## Generate the carla test json files"
   ]
  },
  {
   "cell_type": "code",
   "execution_count": 2,
   "metadata": {},
   "outputs": [
    {
     "name": "stdout",
     "output_type": "stream",
     "text": [
      "49067 12841\n"
     ]
    }
   ],
   "source": [
    "img_data_path = '/home/mmvg/Desktop/mmdetection3d/data/Carla/'\n",
    "img_data_path = r\"D:\\A_Monash_Cyc_Near_Miss_Detection\\CARLA_Data\\Carla_data_unziped\"\n",
    "\n",
    "scenes = os.listdir(img_data_path)\n",
    "if '.DS_Store' in scenes:\n",
    "    scenes.remove('.DS_Store')\n",
    "if 'carla_train.json' in scenes:\n",
    "    scenes.remove('carla_train.json')\n",
    "total_anns = []\n",
    "total_imgs = []\n",
    "cate = set()\n",
    "ind = 0\n",
    "for scene in scenes:\n",
    "    images = os.listdir(os.path.join(img_data_path,scene,'Images'))\n",
    "    images = [os.path.join(scene,'Images',x) for x in images]\n",
    "    with open(os.path.join(img_data_path,scene,'GT/gt.txt'),'r') as f:\n",
    "        gts = f.readlines()\n",
    "    for image in images:\n",
    "        info = {}\n",
    "        info['file_name'] = image\n",
    "        image_path_split = os.path.normpath(image).split(os.path.sep)    # Split the path according to different OS\n",
    "        info['id'] = '_'.join([image_path_split[0],image_path_split[2]])\n",
    "        info['token'] = '_'.join([image_path_split[0],image_path_split[2]])\n",
    "        info['cam2ego_rotation'] = [0.4998015430569128, -0.5030316162024876, 0.4997798114386805, -0.49737083824542755]\n",
    "        info['cam2ego_translation'] = [1.70079118954, 0.0159456324149, 1.51095763913]\n",
    "        info['ego2global_rotation'] = [0.5720320396729045, -0.0016977771610471074, 0.011798001930183783, -0.8201446642457809]\n",
    "        info['ego2global_translation'] = [411.3039349319818, 1180.8903791765097, 0.0]\n",
    "        info['cam_intrinsic'] = [[1266.417203046554, 0.0, 816.2670197447984],[0.0, 1266.417203046554, 491.50706579294757],[0.0, 0.0, 1.0]]\n",
    "        info['width'] = 1600\n",
    "        info['height'] = 900\n",
    "        total_imgs.append(info)\n",
    "    for gt in gts:\n",
    "        gt_info = gt[:-1].split(',')\n",
    "        image_name = \"%05d.jpeg\" % int(gt_info[0])\n",
    "        image_name = scene+'/Images/'+image_name\n",
    "        if math.sqrt(float(gt_info[13])**2+float(gt_info[14])**2) < 30:\n",
    "            info={}\n",
    "            info['file_name'] = image_name\n",
    "            info['image_id'] = '_'.join([image_name.split('/')[0],image_name.split('/')[2]])\n",
    "            info['area'] = (float(gt_info[8])-float(gt_info[6]))*(float(gt_info[9])-float(gt_info[7]))\n",
    "            info['bbox'] = [float(gt_info[6]),float(gt_info[7]),float(gt_info[8])-float(gt_info[6]),float(gt_info[9])-float(gt_info[7])]\n",
    "            if gt_info[2] == ' vehicle':\n",
    "                info['category_name'] = 'car'\n",
    "                info['category_id'] = 0\n",
    "            elif gt_info[2] == ' pedestrian':\n",
    "                info['category_name'] = 'pedestrian'\n",
    "                info['category_id'] = 7\n",
    "            info['iscrowd'] = 0\n",
    "            if float(gt_info[16]) < -math.pi:\n",
    "                angle = 2*math.pi+float(gt_info[16])\n",
    "            elif float(gt_info[16]) > math.pi:\n",
    "                angle = float(gt_info[16]) - 2*math.pi\n",
    "            else:\n",
    "                angle = float(gt_info[16])\n",
    "            info['bbox_cam3d'] = [float(gt_info[14]),-float(gt_info[15]),float(gt_info[13]),float(gt_info[11]),float(gt_info[10]),float(gt_info[12]),angle]\n",
    "            info['velo_cam3d'] = [0,0]\n",
    "            info['center2d'] = [(float(gt_info[8])+float(gt_info[6]))/2, (float(gt_info[9])+float(gt_info[7]))/2, float(gt_info[13])]\n",
    "            info['attribute_name'] = 'pedestrian.standing'\n",
    "            info['attribute_id'] = 3\n",
    "            info['segmentation'] = []\n",
    "            info['id'] = ind\n",
    "            ind+=1\n",
    "            total_anns.append(info)\n",
    "print('Total annotation: {}, Total image number:{}'.format(len(total_anns), len(total_imgs)))"
   ]
  },
  {
   "cell_type": "code",
   "execution_count": 11,
   "metadata": {},
   "outputs": [],
   "source": [
    "# Open data for NuScenes data, to borrow categories to save to CARLA data.\n",
    "# ann = json.load(open(r'C:\\Users\\Lingheng\\Documents\\git_repo_2023\\mmdetection3d\\data\\nuscenes\\nuscenes_infos_train_mono3d.coco.json'))\n",
    "# nuscences_obj_categories = ann['categories']\n",
    "# nuscences_obj_categories"
   ]
  },
  {
   "cell_type": "code",
   "execution_count": 8,
   "metadata": {},
   "outputs": [],
   "source": [
    "nuscences_obj_categories = [{'id': 0, 'name': 'car'}, {'id': 1, 'name': 'truck'}, \n",
    "                            {'id': 2, 'name': 'trailer'}, {'id': 3, 'name': 'bus'}, \n",
    "                            {'id': 4, 'name': 'construction_vehicle'}, {'id': 5, 'name': 'bicycle'},\n",
    "                            {'id': 6, 'name': 'motorcycle'}, {'id': 7, 'name': 'pedestrian'}, \n",
    "                            {'id': 8, 'name': 'traffic_cone'}, {'id': 9, 'name': 'barrier'}]"
   ]
  },
  {
   "cell_type": "code",
   "execution_count": 4,
   "metadata": {},
   "outputs": [],
   "source": [
    "# Save carla data for FCOS3D\n",
    "carla_info = {}\n",
    "carla_info['categories'] = nuscences_obj_categories    # Object categories, shared among NuScenes, Carla and Victorian data\n",
    "carla_info['annotations'] = total_anns\n",
    "carla_info['images'] = total_imgs\n",
    "\n",
    "out_data_path = r\"C:\\Users\\Lingheng\\Documents\\git_repo_2023\\mmdetection3d\\data\\carla\"  # dir to save the data\n",
    "with open(os.path.join(out_data_path, 'carla_train.json'),'w') as f:\n",
    "    json.dump(carla_info,f)"
   ]
  },
  {
   "cell_type": "markdown",
   "metadata": {},
   "source": [
    "## Generate the Victorian Cycling Legacy test json files"
   ]
  },
  {
   "cell_type": "code",
   "execution_count": 5,
   "metadata": {},
   "outputs": [
    {
     "name": "stdout",
     "output_type": "stream",
     "text": [
      "Total image number:157130\n"
     ]
    }
   ],
   "source": [
    "img_data_path = r\"D:\\A_Monash_Cyc_Near_Miss_Detection\\Cyc_Video_Frame\"\n",
    "\n",
    "participants = os.listdir(img_data_path)\n",
    "if 'desktop.ini' in participants:\n",
    "    participants.remove('desktop.ini')\n",
    "if '.DS_Store' in participants:\n",
    "    participants.remove('.DS_Store')\n",
    "if 'carla_train.json' in scenes:\n",
    "    participants.remove('carla_train.json')\n",
    "\n",
    "# There is no annotation for Victorian Cycling Legacy dataset\n",
    "total_imgs = []\n",
    "for participant in participants:\n",
    "    # print(participant)\n",
    "    trips = os.listdir(os.path.join(img_data_path, participant))\n",
    "    for trip in trips:\n",
    "        # print('\\t'+trip)\n",
    "        trip_images = os.listdir(os.path.join(img_data_path, participant, trip))\n",
    "        for trip_img in trip_images:\n",
    "            image = os.path.join(participant, trip, trip_img)\n",
    "            info = {}\n",
    "            info['file_name'] = image\n",
    "            info['id'] = '_'.join([participant, trip, trip_img])\n",
    "            info['token'] = '_'.join([participant, trip, trip_img])\n",
    "            info['cam2ego_rotation'] = [0.4998015430569128, -0.5030316162024876, 0.4997798114386805, -0.49737083824542755]\n",
    "            info['cam2ego_translation'] = [1.70079118954, 0.0159456324149, 1.51095763913]\n",
    "            info['ego2global_rotation'] = [0.5720320396729045, -0.0016977771610471074, 0.011798001930183783, -0.8201446642457809]\n",
    "            info['ego2global_translation'] = [411.3039349319818, 1180.8903791765097, 0.0]\n",
    "            info['cam_intrinsic'] = [[1266.417203046554, 0.0, 816.2670197447984],[0.0, 1266.417203046554, 491.50706579294757],[0.0, 0.0, 1.0]]\n",
    "            info['width'] = 1600\n",
    "            info['height'] = 900\n",
    "            total_imgs.append(info)\n",
    "            \n",
    "print('Total image number:{}'.format(len(total_imgs)))"
   ]
  },
  {
   "cell_type": "code",
   "execution_count": 6,
   "metadata": {},
   "outputs": [],
   "source": [
    "# Save carla data for FCOS3D\n",
    "vic_cyc_legacy_info = {}\n",
    "vic_cyc_legacy_info['categories'] = ann['categories']    # Object categories, shared among NuScenes, Carla and Victorian data\n",
    "vic_cyc_legacy_info['annotations'] = []\n",
    "vic_cyc_legacy_info['images'] = total_imgs\n",
    "\n",
    "out_data_path = r\"C:\\Users\\Lingheng\\Documents\\git_repo_2023\\mmdetection3d\\data\\vic_cyc_legacy\"  # dir to save the data\n",
    "with open(os.path.join(out_data_path, 'vic_cyc_legacy_test.json'),'w') as f:\n",
    "    json.dump(vic_cyc_legacy_info,f)"
   ]
  }
 ],
 "metadata": {
  "kernelspec": {
   "display_name": "Python 3",
   "language": "python",
   "name": "python3"
  },
  "language_info": {
   "codemirror_mode": {
    "name": "ipython",
    "version": 3
   },
   "file_extension": ".py",
   "mimetype": "text/x-python",
   "name": "python",
   "nbconvert_exporter": "python",
   "pygments_lexer": "ipython3",
   "version": "3.7.10"
  },
  "vscode": {
   "interpreter": {
    "hash": "5d5f52f91a450bde60c8e5b6b9247ab581e7520a712778ba3c08abfdf392de6e"
   }
  }
 },
 "nbformat": 4,
 "nbformat_minor": 2
}
