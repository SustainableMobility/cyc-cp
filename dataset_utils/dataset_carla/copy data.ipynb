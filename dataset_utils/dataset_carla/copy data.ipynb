{
 "cells": [
  {
   "cell_type": "code",
   "execution_count": 23,
   "id": "extensive-monday",
   "metadata": {},
   "outputs": [],
   "source": [
    "import gdown\n",
    "import os"
   ]
  },
  {
   "cell_type": "markdown",
   "id": "great-victim",
   "metadata": {},
   "source": [
    "## Best practice: using portatble harddrive to copy from Tharindu"
   ]
  },
  {
   "cell_type": "markdown",
   "id": "binary-replication",
   "metadata": {},
   "source": [
    "If encounter the error \"Too many users have viewed or downloaded this file recently. Please try accessing the file again later.\" with gdown, please try to copy the file to your own google drive than copy the shared link of the copy and download agin."
   ]
  },
  {
   "cell_type": "code",
   "execution_count": 34,
   "id": "diverse-theory",
   "metadata": {},
   "outputs": [
    {
     "name": "stdout",
     "output_type": "stream",
     "text": [
      "Access denied with the following error:\n"
     ]
    },
    {
     "name": "stderr",
     "output_type": "stream",
     "text": [
      "\n",
      " \tToo many users have viewed or downloaded this file recently. Please\n",
      "\ttry accessing the file again later. If the file you are trying to\n",
      "\taccess is particularly large or is shared with many people, it may\n",
      "\ttake up to 24 hours to be able to view or download the file. If you\n",
      "\tstill can't access a file after 24 hours, contact your domain\n",
      "\tadministrator. \n",
      "\n",
      "You may still be able to access the file from the browser:\n",
      "\n",
      "\t https://drive.google.com/uc?id=1fXqw6fIGQoqMXRW-pz8L8RDqoLMV8A4g \n",
      "\n"
     ]
    }
   ],
   "source": [
    "url = \"https://drive.google.com/file/d/1fXqw6fIGQoqMXRW-pz8L8RDqoLMV8A4g/view?usp=sharing\"\n",
    "output = os.path.join(r\"D:\\A_Monash_Cyc_Near_Miss_Detection\\CARLA_Data\", '2022_11_22_Carla_dataset_01.7z')\n",
    "gdown.download(url=url, output=output, quiet=True, fuzzy=True)"
   ]
  },
  {
   "cell_type": "code",
   "execution_count": 27,
   "id": "outside-vacuum",
   "metadata": {},
   "outputs": [
    {
     "name": "stdout",
     "output_type": "stream",
     "text": [
      "Access denied with the following error:\n"
     ]
    },
    {
     "name": "stderr",
     "output_type": "stream",
     "text": [
      "\n",
      " \tToo many users have viewed or downloaded this file recently. Please\n",
      "\ttry accessing the file again later. If the file you are trying to\n",
      "\taccess is particularly large or is shared with many people, it may\n",
      "\ttake up to 24 hours to be able to view or download the file. If you\n",
      "\tstill can't access a file after 24 hours, contact your domain\n",
      "\tadministrator. \n",
      "\n",
      "You may still be able to access the file from the browser:\n",
      "\n",
      "\t https://drive.google.com/uc?id=1IEAXc73C2pd0-U-Z3ZoLMbc6jh7GgHyI \n",
      "\n"
     ]
    }
   ],
   "source": [
    "# same as the above, but with the file ID\n",
    "id = \"1IEAXc73C2pd0-U-Z3ZoLMbc6jh7GgHyI\"\n",
    "output = os.path.join(r\"D:\\A_Monash_Cyc_Near_Miss_Detection\\CARLA_Data\", '2022_11_22_Carla_dataset_01.7z')\n",
    "gdown.download(id=id, output=output, quiet=False)"
   ]
  },
  {
   "cell_type": "code",
   "execution_count": 35,
   "id": "veterinary-defendant",
   "metadata": {},
   "outputs": [
    {
     "name": "stdout",
     "output_type": "stream",
     "text": [
      "Access denied with the following error:\n"
     ]
    },
    {
     "name": "stderr",
     "output_type": "stream",
     "text": [
      "\n",
      " \tToo many users have viewed or downloaded this file recently. Please\n",
      "\ttry accessing the file again later. If the file you are trying to\n",
      "\taccess is particularly large or is shared with many people, it may\n",
      "\ttake up to 24 hours to be able to view or download the file. If you\n",
      "\tstill can't access a file after 24 hours, contact your domain\n",
      "\tadministrator. \n",
      "\n",
      "You may still be able to access the file from the browser:\n",
      "\n",
      "\t https://drive.google.com/uc?id=1IEAXc73C2pd0-U-Z3ZoLMbc6jh7GgHyI \n",
      "\n"
     ]
    }
   ],
   "source": [
    "# same as the above, and you can copy-and-paste a URL from Google Drive with fuzzy=True\n",
    "url = \"https://drive.google.com/file/d/1IEAXc73C2pd0-U-Z3ZoLMbc6jh7GgHyI/view?usp=sharing\"\n",
    "output = os.path.join(r\"D:\\A_Monash_Cyc_Near_Miss_Detection\\CARLA_Data\", '2022_11_22_Carla_dataset_01.7z')\n",
    "gdown.download(url=url, output=output, quiet=False, fuzzy=True)"
   ]
  },
  {
   "cell_type": "code",
   "execution_count": 26,
   "id": "initial-scenario",
   "metadata": {},
   "outputs": [
    {
     "name": "stdout",
     "output_type": "stream",
     "text": [
      "Access denied with the following error:\n"
     ]
    },
    {
     "name": "stderr",
     "output_type": "stream",
     "text": [
      "\n",
      " \tToo many users have viewed or downloaded this file recently. Please\n",
      "\ttry accessing the file again later. If the file you are trying to\n",
      "\taccess is particularly large or is shared with many people, it may\n",
      "\ttake up to 24 hours to be able to view or download the file. If you\n",
      "\tstill can't access a file after 24 hours, contact your domain\n",
      "\tadministrator. \n",
      "\n",
      "You may still be able to access the file from the browser:\n",
      "\n",
      "\t https://drive.google.com/uc?id=1y_zkRo0DswaAWY8Rp2vgC8lubJij8p9T \n",
      "\n"
     ]
    }
   ],
   "source": [
    "url = \"https://drive.google.com/file/d/1y_zkRo0DswaAWY8Rp2vgC8lubJij8p9T/view?usp=sharing\"\n",
    "output = os.path.join(r\"D:\\A_Monash_Cyc_Near_Miss_Detection\\CARLA_Data\", '2022_08_25_Carla_dataset_01.zip')\n",
    "gdown.download(url=url, output=output, quiet=False, fuzzy=True)"
   ]
  },
  {
   "cell_type": "code",
   "execution_count": null,
   "id": "present-serial",
   "metadata": {},
   "outputs": [],
   "source": []
  }
 ],
 "metadata": {
  "kernelspec": {
   "display_name": "Python 3",
   "language": "python",
   "name": "python3"
  },
  "language_info": {
   "codemirror_mode": {
    "name": "ipython",
    "version": 3
   },
   "file_extension": ".py",
   "mimetype": "text/x-python",
   "name": "python",
   "nbconvert_exporter": "python",
   "pygments_lexer": "ipython3",
   "version": "3.7.10"
  }
 },
 "nbformat": 4,
 "nbformat_minor": 5
}
